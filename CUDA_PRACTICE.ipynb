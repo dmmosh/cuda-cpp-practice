{
  "nbformat": 4,
  "nbformat_minor": 0,
  "metadata": {
    "colab": {
      "provenance": [],
      "gpuType": "T4",
      "authorship_tag": "ABX9TyNKOq42VNZkwSSUd+cQg0Ks",
      "include_colab_link": true
    },
    "kernelspec": {
      "name": "python3",
      "display_name": "Python 3"
    },
    "language_info": {
      "name": "python"
    },
    "accelerator": "GPU"
  },
  "cells": [
    {
      "cell_type": "markdown",
      "metadata": {
        "id": "view-in-github",
        "colab_type": "text"
      },
      "source": [
        "<a href=\"https://colab.research.google.com/github/dmmosh/cuda-cpp-practice/blob/main/CUDA_PRACTICE.ipynb\" target=\"_parent\"><img src=\"https://colab.research.google.com/assets/colab-badge.svg\" alt=\"Open In Colab\"/></a>"
      ]
    },
    {
      "cell_type": "code",
      "source": [
        "#include <cudnn.h>\n",
        "#include <stdlib.h>\n",
        "#include <stdio.h>\n",
        "#include <time.h>\n",
        "#include <math.h>\n",
        "#include <assert.h>\n",
        "\n",
        "/*\n",
        "__global__ keyword:\n",
        "CUDA kernel\n",
        "functions that are called from host but executed in the device, MUST BE VOID\n",
        "\n",
        "*/\n",
        "__global__ void vectorAdd(int* a, int* b, int* c, int n){\n",
        "    // 1 thread PER ELEMENT that gets added\n",
        "\n",
        "    /*\n",
        "    BLOCKID:\n",
        "    block number\n",
        "    start at 0\n",
        "\n",
        "    BLOCKDIM:\n",
        "    block size (constant, 256)\n",
        "\n",
        "    THREADID:\n",
        "    which thred in the thread block were in\n",
        "    starts at 0\n",
        "\n",
        "    all are in x, y, z dimensions\n",
        "\n",
        "    */\n",
        "    int tid = (blockIdx.x* blockDim.x) + threadIdx.x;\n",
        "\n",
        "    if (tid<n){\n",
        "        c[tid] = a[tid] + b[tid];\n",
        "    }\n",
        "\n",
        "}\n",
        "\n",
        "void rand_0_99(int* arr, int n){\n",
        "    for(int i=0; i<n; i++){\n",
        "      arr[i] = (rand() % (99 - 1)) + 0;\n",
        "    }\n",
        "}\n",
        "\n",
        "typedef struct arr{\n",
        "    int* a;\n",
        "    int* b;\n",
        "    int* c;\n",
        "} arr;\n",
        "\n",
        "int main(){\n",
        "    srand(time(NULL));\n",
        "    int n = 1<<16; // 2^16 , number of elements\n",
        "\n",
        "    size_t bytes = sizeof(int)*n; // amt of memory\n",
        "\n",
        "    arr host{    // host\n",
        "        (int*)malloc(bytes),\n",
        "        (int*)malloc(bytes),\n",
        "        (int*)malloc(bytes)\n",
        "    };\n",
        "\n",
        "    arr device;\n",
        "    // device has its own memory\n",
        "    // allocated to vram\n",
        "    // remember to do cudaFree\n",
        "    cudaMalloc(&device.a,bytes); // mallocs space on the device\n",
        "    cudaMalloc(&device.b,bytes);\n",
        "    cudaMalloc(&device.c,bytes);\n",
        "\n",
        "    /*\n",
        "    DEVICE: gpu\n",
        "    HOST: cpu\n",
        "    */\n",
        "    rand_0_99(host.a, n);\n",
        "    rand_0_99(host.b, n);\n",
        "\n",
        "\n",
        "    // memcpy\n",
        "    // cudaMemcpyaTob (a to b )\n",
        "    cudaMemcpy(device.a, host.a, bytes, cudaMemcpyHostToDevice); // a, b, annd where to memcpy\n",
        "    cudaMemcpy(device.b, host.b, bytes, cudaMemcpyHostToDevice); // a, b, annd where to memcpy\n",
        "    cudaMemcpy(device.c, host.c, bytes, cudaMemcpyHostToDevice); // a, b, annd where to memcpy\n",
        "\n",
        "    int NUM_THREADS = 256; // amt of threads, multiple of 32\n",
        "    int NUM_WARPS = NUM_THREADS/32;  // 8\n",
        "    int NUM_BLOCKS  = n / NUM_THREADS;\n",
        "    vectorAdd<<<NUM_BLOCKS,NUM_THREADS>>>(device.a,device.b,device.c,n);\n",
        "\n",
        "    cudaMemcpy(host.c, device.c,bytes, cudaMemcpyDeviceToHost); // device: gpu, host: cpu\n",
        "\n",
        "\n",
        "    for(int i = 0; i<n; i++){\n",
        "        printf(\"%i \", host.c[i]);\n",
        "    }\n",
        "\n",
        "    cudaFree(device.a);\n",
        "    cudaFree(device.b);\n",
        "    cudaFree(device.c);\n",
        "\n",
        "\n",
        "    // VALGRIND TO CHECK MEM\n",
        "    free(host.a);\n",
        "    free(host.b);\n",
        "    free(host.c);\n",
        "\n",
        "    return 0;\n",
        "}"
      ],
      "metadata": {
        "colab": {
          "base_uri": "https://localhost:8080/",
          "height": 120
        },
        "id": "dYlM8LCJsSa3",
        "outputId": "8474ec7c-a297-4b40-fafb-864b73b66cff"
      },
      "execution_count": 16,
      "outputs": [
        {
          "output_type": "error",
          "ename": "SyntaxError",
          "evalue": "invalid syntax (<ipython-input-16-a2eca56df13a>, line 8)",
          "traceback": [
            "\u001b[0;36m  File \u001b[0;32m\"<ipython-input-16-a2eca56df13a>\"\u001b[0;36m, line \u001b[0;32m8\u001b[0m\n\u001b[0;31m    // VECTOR ADDITION ON CUDA CORES\u001b[0m\n\u001b[0m    ^\u001b[0m\n\u001b[0;31mSyntaxError\u001b[0m\u001b[0;31m:\u001b[0m invalid syntax\n"
          ]
        }
      ]
    },
    {
      "cell_type": "code",
      "source": [
        "!python --version\n",
        "!nvcc --version\n",
        "!pip install nvcc4jupyter\n",
        "%load_ext nvcc4jupyter\n"
      ],
      "metadata": {
        "colab": {
          "base_uri": "https://localhost:8080/"
        },
        "id": "X3zPIvg9t9qD",
        "outputId": "6dbf63c6-af33-4507-fa06-ba5870965f1a"
      },
      "execution_count": 17,
      "outputs": [
        {
          "output_type": "stream",
          "name": "stdout",
          "text": [
            "Python 3.11.11\n",
            "nvcc: NVIDIA (R) Cuda compiler driver\n",
            "Copyright (c) 2005-2024 NVIDIA Corporation\n",
            "Built on Thu_Jun__6_02:18:23_PDT_2024\n",
            "Cuda compilation tools, release 12.5, V12.5.82\n",
            "Build cuda_12.5.r12.5/compiler.34385749_0\n",
            "Collecting nvcc4jupyter\n",
            "  Downloading nvcc4jupyter-1.2.1-py3-none-any.whl.metadata (5.1 kB)\n",
            "Downloading nvcc4jupyter-1.2.1-py3-none-any.whl (10 kB)\n",
            "Installing collected packages: nvcc4jupyter\n",
            "Successfully installed nvcc4jupyter-1.2.1\n",
            "Detected platform \"Colab\". Running its setup...\n",
            "Source files will be saved in \"/tmp/tmpiakeqtwd\".\n"
          ]
        }
      ]
    }
  ]
}